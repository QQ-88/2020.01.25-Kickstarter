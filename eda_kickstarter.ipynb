{
 "cells": [
  {
   "cell_type": "markdown",
   "metadata": {},
   "source": [
    "## Kickstarter projects evaluation\n",
    "\n",
    "Based on: https://www.kaggle.com/kemical/kickstarter-projects"
   ]
  },
  {
   "cell_type": "code",
   "execution_count": 23,
   "metadata": {},
   "outputs": [],
   "source": [
    "import pandas as pd\n",
    "from matplotlib import pyplot as plt"
   ]
  },
  {
   "cell_type": "code",
   "execution_count": 24,
   "metadata": {},
   "outputs": [],
   "source": [
    "# Read in the data\n",
    "df = pd.read_csv('201801.csv')\n",
    "plt.style.use('seaborn')"
   ]
  },
  {
   "cell_type": "code",
   "execution_count": 25,
   "metadata": {},
   "outputs": [
    {
     "data": {
      "text/html": [
       "<div>\n",
       "<style scoped>\n",
       "    .dataframe tbody tr th:only-of-type {\n",
       "        vertical-align: middle;\n",
       "    }\n",
       "\n",
       "    .dataframe tbody tr th {\n",
       "        vertical-align: top;\n",
       "    }\n",
       "\n",
       "    .dataframe thead th {\n",
       "        text-align: right;\n",
       "    }\n",
       "</style>\n",
       "<table border=\"1\" class=\"dataframe\">\n",
       "  <thead>\n",
       "    <tr style=\"text-align: right;\">\n",
       "      <th></th>\n",
       "      <th>ID</th>\n",
       "      <th>name</th>\n",
       "      <th>category</th>\n",
       "      <th>main_category</th>\n",
       "      <th>currency</th>\n",
       "      <th>deadline</th>\n",
       "      <th>goal</th>\n",
       "      <th>launched</th>\n",
       "      <th>pledged</th>\n",
       "      <th>state</th>\n",
       "      <th>backers</th>\n",
       "      <th>country</th>\n",
       "      <th>usd pledged</th>\n",
       "      <th>usd_pledged_real</th>\n",
       "      <th>usd_goal_real</th>\n",
       "    </tr>\n",
       "  </thead>\n",
       "  <tbody>\n",
       "    <tr>\n",
       "      <th>0</th>\n",
       "      <td>1000002330</td>\n",
       "      <td>The Songs of Adelaide &amp; Abullah</td>\n",
       "      <td>Poetry</td>\n",
       "      <td>Publishing</td>\n",
       "      <td>GBP</td>\n",
       "      <td>2015-10-09</td>\n",
       "      <td>1000.0</td>\n",
       "      <td>2015-08-11 12:12:28</td>\n",
       "      <td>0.0</td>\n",
       "      <td>failed</td>\n",
       "      <td>0</td>\n",
       "      <td>GB</td>\n",
       "      <td>0.0</td>\n",
       "      <td>0.0</td>\n",
       "      <td>1533.95</td>\n",
       "    </tr>\n",
       "    <tr>\n",
       "      <th>1</th>\n",
       "      <td>1000003930</td>\n",
       "      <td>Greeting From Earth: ZGAC Arts Capsule For ET</td>\n",
       "      <td>Narrative Film</td>\n",
       "      <td>Film &amp; Video</td>\n",
       "      <td>USD</td>\n",
       "      <td>2017-11-01</td>\n",
       "      <td>30000.0</td>\n",
       "      <td>2017-09-02 04:43:57</td>\n",
       "      <td>2421.0</td>\n",
       "      <td>failed</td>\n",
       "      <td>15</td>\n",
       "      <td>US</td>\n",
       "      <td>100.0</td>\n",
       "      <td>2421.0</td>\n",
       "      <td>30000.00</td>\n",
       "    </tr>\n",
       "    <tr>\n",
       "      <th>2</th>\n",
       "      <td>1000004038</td>\n",
       "      <td>Where is Hank?</td>\n",
       "      <td>Narrative Film</td>\n",
       "      <td>Film &amp; Video</td>\n",
       "      <td>USD</td>\n",
       "      <td>2013-02-26</td>\n",
       "      <td>45000.0</td>\n",
       "      <td>2013-01-12 00:20:50</td>\n",
       "      <td>220.0</td>\n",
       "      <td>failed</td>\n",
       "      <td>3</td>\n",
       "      <td>US</td>\n",
       "      <td>220.0</td>\n",
       "      <td>220.0</td>\n",
       "      <td>45000.00</td>\n",
       "    </tr>\n",
       "    <tr>\n",
       "      <th>3</th>\n",
       "      <td>1000007540</td>\n",
       "      <td>ToshiCapital Rekordz Needs Help to Complete Album</td>\n",
       "      <td>Music</td>\n",
       "      <td>Music</td>\n",
       "      <td>USD</td>\n",
       "      <td>2012-04-16</td>\n",
       "      <td>5000.0</td>\n",
       "      <td>2012-03-17 03:24:11</td>\n",
       "      <td>1.0</td>\n",
       "      <td>failed</td>\n",
       "      <td>1</td>\n",
       "      <td>US</td>\n",
       "      <td>1.0</td>\n",
       "      <td>1.0</td>\n",
       "      <td>5000.00</td>\n",
       "    </tr>\n",
       "    <tr>\n",
       "      <th>4</th>\n",
       "      <td>1000011046</td>\n",
       "      <td>Community Film Project: The Art of Neighborhoo...</td>\n",
       "      <td>Film &amp; Video</td>\n",
       "      <td>Film &amp; Video</td>\n",
       "      <td>USD</td>\n",
       "      <td>2015-08-29</td>\n",
       "      <td>19500.0</td>\n",
       "      <td>2015-07-04 08:35:03</td>\n",
       "      <td>1283.0</td>\n",
       "      <td>canceled</td>\n",
       "      <td>14</td>\n",
       "      <td>US</td>\n",
       "      <td>1283.0</td>\n",
       "      <td>1283.0</td>\n",
       "      <td>19500.00</td>\n",
       "    </tr>\n",
       "  </tbody>\n",
       "</table>\n",
       "</div>"
      ],
      "text/plain": [
       "           ID                                               name  \\\n",
       "0  1000002330                    The Songs of Adelaide & Abullah   \n",
       "1  1000003930      Greeting From Earth: ZGAC Arts Capsule For ET   \n",
       "2  1000004038                                     Where is Hank?   \n",
       "3  1000007540  ToshiCapital Rekordz Needs Help to Complete Album   \n",
       "4  1000011046  Community Film Project: The Art of Neighborhoo...   \n",
       "\n",
       "         category main_category currency    deadline     goal  \\\n",
       "0          Poetry    Publishing      GBP  2015-10-09   1000.0   \n",
       "1  Narrative Film  Film & Video      USD  2017-11-01  30000.0   \n",
       "2  Narrative Film  Film & Video      USD  2013-02-26  45000.0   \n",
       "3           Music         Music      USD  2012-04-16   5000.0   \n",
       "4    Film & Video  Film & Video      USD  2015-08-29  19500.0   \n",
       "\n",
       "              launched  pledged     state  backers country  usd pledged  \\\n",
       "0  2015-08-11 12:12:28      0.0    failed        0      GB          0.0   \n",
       "1  2017-09-02 04:43:57   2421.0    failed       15      US        100.0   \n",
       "2  2013-01-12 00:20:50    220.0    failed        3      US        220.0   \n",
       "3  2012-03-17 03:24:11      1.0    failed        1      US          1.0   \n",
       "4  2015-07-04 08:35:03   1283.0  canceled       14      US       1283.0   \n",
       "\n",
       "   usd_pledged_real  usd_goal_real  \n",
       "0               0.0        1533.95  \n",
       "1            2421.0       30000.00  \n",
       "2             220.0       45000.00  \n",
       "3               1.0        5000.00  \n",
       "4            1283.0       19500.00  "
      ]
     },
     "execution_count": 25,
     "metadata": {},
     "output_type": "execute_result"
    }
   ],
   "source": [
    "df.head()"
   ]
  },
  {
   "cell_type": "markdown",
   "metadata": {},
   "source": [
    "**1a. Examine the state column to see unique values and counts**"
   ]
  },
  {
   "cell_type": "code",
   "execution_count": 26,
   "metadata": {},
   "outputs": [
    {
     "data": {
      "text/plain": [
       "array(['failed', 'canceled', 'successful', 'live', 'undefined',\n",
       "       'suspended'], dtype=object)"
      ]
     },
     "execution_count": 26,
     "metadata": {},
     "output_type": "execute_result"
    }
   ],
   "source": [
    "df['state'].unique()"
   ]
  },
  {
   "cell_type": "markdown",
   "metadata": {},
   "source": [
    "**1b. Show a pie chart of the state project count for all projects.**"
   ]
  },
  {
   "cell_type": "code",
   "execution_count": 27,
   "metadata": {},
   "outputs": [
    {
     "data": {
      "text/plain": [
       "<matplotlib.axes._subplots.AxesSubplot at 0x7f40d0fe2040>"
      ]
     },
     "execution_count": 27,
     "metadata": {},
     "output_type": "execute_result"
    },
    {
     "data": {
      "image/png": "[encoded data removed]",
      "text/plain": [
       "<Figure size 432x432 with 1 Axes>"
      ]
     },
     "metadata": {},
     "output_type": "display_data"
    }
   ],
   "source": [
    "# autopct calculatrs the value back from the percentages\n",
    "df.state.value_counts().plot(title='State of project',kind='pie', \n",
    "              autopct=lambda val: round((val * df.state.value_counts().sum()) / 100, 0), figsize=(6, 6))"
   ]
  },
  {
   "cell_type": "markdown",
   "metadata": {},
   "source": [
    "**1c. Create a new \"Completed\" dataframe that removes any rows with state of 'live', 'undefined', or 'suspended'.**"
   ]
  },
  {
   "cell_type": "code",
   "execution_count": 130,
   "metadata": {},
   "outputs": [],
   "source": [
    "completed = df[~df['state'].isin(['live', 'undefined', 'suspended'])].copy()"
   ]
  },
  {
   "cell_type": "code",
   "execution_count": 131,
   "metadata": {},
   "outputs": [
    {
     "data": {
      "text/plain": [
       "array(['failed', 'canceled', 'successful'], dtype=object)"
      ]
     },
     "execution_count": 131,
     "metadata": {},
     "output_type": "execute_result"
    }
   ],
   "source": [
    "completed['state'].unique()"
   ]
  },
  {
   "cell_type": "markdown",
   "metadata": {},
   "source": [
    "**2a. What is the overall success rate for all completed kickstarter projects?**"
   ]
  },
  {
   "cell_type": "code",
   "execution_count": 132,
   "metadata": {},
   "outputs": [],
   "source": [
    "# Percentage calculation\n",
    "pct_state = (completed['state'].value_counts() / completed['state'].value_counts().sum()) * 100"
   ]
  },
  {
   "cell_type": "code",
   "execution_count": 133,
   "metadata": {},
   "outputs": [],
   "source": [
    "# Pulling the success cell and rounding to two digits\n",
    "success = round(pct_state.loc['successful'], 2)"
   ]
  },
  {
   "cell_type": "code",
   "execution_count": 134,
   "metadata": {},
   "outputs": [
    {
     "name": "stdout",
     "output_type": "stream",
     "text": [
      "The overall success rate of projects is 36.16%.\n"
     ]
    }
   ],
   "source": [
    "print(f'The overall success rate of projects is {success}%.')"
   ]
  },
  {
   "cell_type": "markdown",
   "metadata": {},
   "source": [
    "**2b. Which 5 projects were pledged the most money (usd_pledged_real)?**"
   ]
  },
  {
   "cell_type": "code",
   "execution_count": 135,
   "metadata": {},
   "outputs": [
    {
     "data": {
      "text/html": [
       "<div>\n",
       "<style scoped>\n",
       "    .dataframe tbody tr th:only-of-type {\n",
       "        vertical-align: middle;\n",
       "    }\n",
       "\n",
       "    .dataframe tbody tr th {\n",
       "        vertical-align: top;\n",
       "    }\n",
       "\n",
       "    .dataframe thead th {\n",
       "        text-align: right;\n",
       "    }\n",
       "</style>\n",
       "<table border=\"1\" class=\"dataframe\">\n",
       "  <thead>\n",
       "    <tr style=\"text-align: right;\">\n",
       "      <th></th>\n",
       "      <th>name</th>\n",
       "      <th>usd_pledged_real</th>\n",
       "    </tr>\n",
       "  </thead>\n",
       "  <tbody>\n",
       "    <tr>\n",
       "      <th>157270</th>\n",
       "      <td>Pebble Time - Awesome Smartwatch, No Compromises</td>\n",
       "      <td>20338986.27</td>\n",
       "    </tr>\n",
       "    <tr>\n",
       "      <th>250254</th>\n",
       "      <td>COOLEST COOLER: 21st Century Cooler that's Act...</td>\n",
       "      <td>13285226.36</td>\n",
       "    </tr>\n",
       "    <tr>\n",
       "      <th>216629</th>\n",
       "      <td>Pebble 2, Time 2 + All-New Pebble Core</td>\n",
       "      <td>12779843.49</td>\n",
       "    </tr>\n",
       "    <tr>\n",
       "      <th>289915</th>\n",
       "      <td>Kingdom Death: Monster 1.5</td>\n",
       "      <td>12393139.69</td>\n",
       "    </tr>\n",
       "    <tr>\n",
       "      <th>282416</th>\n",
       "      <td>Pebble: E-Paper Watch for iPhone and Android</td>\n",
       "      <td>10266845.74</td>\n",
       "    </tr>\n",
       "  </tbody>\n",
       "</table>\n",
       "</div>"
      ],
      "text/plain": [
       "                                                     name  usd_pledged_real\n",
       "157270   Pebble Time - Awesome Smartwatch, No Compromises       20338986.27\n",
       "250254  COOLEST COOLER: 21st Century Cooler that's Act...       13285226.36\n",
       "216629             Pebble 2, Time 2 + All-New Pebble Core       12779843.49\n",
       "289915                         Kingdom Death: Monster 1.5       12393139.69\n",
       "282416       Pebble: E-Paper Watch for iPhone and Android       10266845.74"
      ]
     },
     "execution_count": 135,
     "metadata": {},
     "output_type": "execute_result"
    }
   ],
   "source": [
    "completed.sort_values('usd_pledged_real', ascending=False)[['name', 'usd_pledged_real']].head()"
   ]
  },
  {
   "cell_type": "markdown",
   "metadata": {},
   "source": [
    "**2c. Which 5 projects had the most backers?** "
   ]
  },
  {
   "cell_type": "code",
   "execution_count": 136,
   "metadata": {},
   "outputs": [
    {
     "data": {
      "text/plain": [
       "187652    219382\n",
       "75900     154926\n",
       "292244    105857\n",
       "148585     91585\n",
       "182657     87142\n",
       "Name: backers, dtype: int64"
      ]
     },
     "execution_count": 136,
     "metadata": {},
     "output_type": "execute_result"
    }
   ],
   "source": [
    "completed['backers'].nlargest(5)"
   ]
  },
  {
   "cell_type": "code",
   "execution_count": 137,
   "metadata": {},
   "outputs": [
    {
     "data": {
      "text/html": [
       "<div>\n",
       "<style scoped>\n",
       "    .dataframe tbody tr th:only-of-type {\n",
       "        vertical-align: middle;\n",
       "    }\n",
       "\n",
       "    .dataframe tbody tr th {\n",
       "        vertical-align: top;\n",
       "    }\n",
       "\n",
       "    .dataframe thead th {\n",
       "        text-align: right;\n",
       "    }\n",
       "</style>\n",
       "<table border=\"1\" class=\"dataframe\">\n",
       "  <thead>\n",
       "    <tr style=\"text-align: right;\">\n",
       "      <th></th>\n",
       "      <th>name</th>\n",
       "      <th>backers</th>\n",
       "    </tr>\n",
       "  </thead>\n",
       "  <tbody>\n",
       "    <tr>\n",
       "      <th>187652</th>\n",
       "      <td>Exploding Kittens</td>\n",
       "      <td>219382</td>\n",
       "    </tr>\n",
       "    <tr>\n",
       "      <th>75900</th>\n",
       "      <td>Fidget Cube: A Vinyl Desk Toy</td>\n",
       "      <td>154926</td>\n",
       "    </tr>\n",
       "    <tr>\n",
       "      <th>292244</th>\n",
       "      <td>Bring Reading Rainbow Back for Every Child, Ev...</td>\n",
       "      <td>105857</td>\n",
       "    </tr>\n",
       "    <tr>\n",
       "      <th>148585</th>\n",
       "      <td>The Veronica Mars Movie Project</td>\n",
       "      <td>91585</td>\n",
       "    </tr>\n",
       "    <tr>\n",
       "      <th>182657</th>\n",
       "      <td>Double Fine Adventure</td>\n",
       "      <td>87142</td>\n",
       "    </tr>\n",
       "  </tbody>\n",
       "</table>\n",
       "</div>"
      ],
      "text/plain": [
       "                                                     name  backers\n",
       "187652                                  Exploding Kittens   219382\n",
       "75900                       Fidget Cube: A Vinyl Desk Toy   154926\n",
       "292244  Bring Reading Rainbow Back for Every Child, Ev...   105857\n",
       "148585                    The Veronica Mars Movie Project    91585\n",
       "182657                              Double Fine Adventure    87142"
      ]
     },
     "execution_count": 137,
     "metadata": {},
     "output_type": "execute_result"
    }
   ],
   "source": [
    "# Alternative\n",
    "completed.sort_values('backers', ascending=False)[['name', 'backers']].head()"
   ]
  },
  {
   "cell_type": "markdown",
   "metadata": {},
   "source": [
    "**2d. Which year had the most competition? (# of projects)**"
   ]
  },
  {
   "cell_type": "code",
   "execution_count": 138,
   "metadata": {},
   "outputs": [],
   "source": [
    "# Create a datetime object\n",
    "completed['launched'] = pd.to_datetime(completed['launched'])"
   ]
  },
  {
   "cell_type": "code",
   "execution_count": 139,
   "metadata": {},
   "outputs": [],
   "source": [
    "# Insert a new column with year only data\n",
    "completed['year_only'] = completed['launched'].dt.year"
   ]
  },
  {
   "cell_type": "code",
   "execution_count": 140,
   "metadata": {},
   "outputs": [],
   "source": [
    "# Count project number per year and get the index of the most active year\n",
    "top_year = completed['year_only'].value_counts().idxmax()"
   ]
  },
  {
   "cell_type": "code",
   "execution_count": 141,
   "metadata": {},
   "outputs": [
    {
     "name": "stdout",
     "output_type": "stream",
     "text": [
      "The most competition was in 2015.\n"
     ]
    }
   ],
   "source": [
    "print(f'The most competition was in {top_year}.')"
   ]
  },
  {
   "cell_type": "markdown",
   "metadata": {},
   "source": [
    "**3a. What is the success rate for all projects broken down by main_category?**"
   ]
  },
  {
   "cell_type": "code",
   "execution_count": 142,
   "metadata": {},
   "outputs": [
    {
     "name": "stdout",
     "output_type": "stream",
     "text": [
      "Dance           62.580300\n",
      "Theater         60.221198\n",
      "Comics          54.496269\n",
      "Music           49.126974\n",
      "Art             41.309263\n",
      "Film & Video    37.929097\n",
      "Games           36.051032\n",
      "Design          35.743326\n",
      "Publishing      31.500499\n",
      "Photography     30.960187\n",
      "Food            25.077272\n",
      "Fashion         24.940914\n",
      "Crafts          24.419813\n",
      "Journalism      21.660959\n",
      "Technology      20.254998\n",
      "Name: main_category, dtype: float64\n"
     ]
    }
   ],
   "source": [
    "pct_category = (completed['main_category'][completed['state'] == 'successful'].value_counts() / completed['main_category'].value_counts() * 100).sort_values(ascending=False)\n",
    "print(pct_category)"
   ]
  },
  {
   "cell_type": "markdown",
   "metadata": {},
   "source": [
    "**3b. Show a horizontal bar chart for project success rate by main_category, sorted by highest to lowest.**"
   ]
  },
  {
   "cell_type": "code",
   "execution_count": 143,
   "metadata": {
    "scrolled": true
   },
   "outputs": [
    {
     "data": {
      "text/plain": [
       "<matplotlib.axes._subplots.AxesSubplot at 0x7f40c27bccd0>"
      ]
     },
     "execution_count": 143,
     "metadata": {},
     "output_type": "execute_result"
    },
    {
     "data": {
      "image/png": "[encoded data removed]",
      "text/plain": [
       "<Figure size 720x360 with 1 Axes>"
      ]
     },
     "metadata": {},
     "output_type": "display_data"
    }
   ],
   "source": [
    "# Sorting from best to worst and plotting\n",
    "pct_category_desc = pct_category.sort_values(ascending=True)\n",
    "pct_category_desc.plot.barh(title='Project success rate by main category', figsize=(10,5))"
   ]
  },
  {
   "cell_type": "markdown",
   "metadata": {},
   "source": [
    "**3c. Within the Games main_category, what is the success rate for each category within it?**"
   ]
  },
  {
   "cell_type": "code",
   "execution_count": 144,
   "metadata": {},
   "outputs": [],
   "source": [
    "# Create filter\n",
    "filt = completed['main_category'] == 'Games'"
   ]
  },
  {
   "cell_type": "code",
   "execution_count": 145,
   "metadata": {},
   "outputs": [],
   "source": [
    "# Apply the filter and create a new DF\n",
    "games = completed[filt]"
   ]
  },
  {
   "cell_type": "code",
   "execution_count": 146,
   "metadata": {},
   "outputs": [],
   "source": [
    "# Calculate the percentages within the Games category\n",
    "pct_games = (games['category'][completed['state'] == 'successful'].value_counts() / games['category'].value_counts() * 100).sort_values(ascending=False)"
   ]
  },
  {
   "cell_type": "code",
   "execution_count": 147,
   "metadata": {},
   "outputs": [
    {
     "data": {
      "text/plain": [
       "Tabletop Games     56.033623\n",
       "Playing Cards      39.517777\n",
       "Puzzles            38.938053\n",
       "Gaming Hardware    25.647668\n",
       "Games              24.566383\n",
       "Video Games        20.408862\n",
       "Live Games         17.786561\n",
       "Mobile Games        8.732877\n",
       "Name: category, dtype: float64"
      ]
     },
     "execution_count": 147,
     "metadata": {},
     "output_type": "execute_result"
    }
   ],
   "source": [
    "pct_games"
   ]
  },
  {
   "cell_type": "markdown",
   "metadata": {},
   "source": [
    "**4a. Calculate the 'pct_of_goal' for each completed project**"
   ]
  },
  {
   "cell_type": "code",
   "execution_count": 148,
   "metadata": {},
   "outputs": [],
   "source": [
    "completed['pct_of_goal'] = (completed['pledged'] / completed['goal']) * 100"
   ]
  },
  {
   "cell_type": "markdown",
   "metadata": {},
   "source": [
    "**4b. What were the top 5 projects when looking at pct_of_goal for all time?**"
   ]
  },
  {
   "cell_type": "code",
   "execution_count": 149,
   "metadata": {},
   "outputs": [
    {
     "data": {
      "text/plain": [
       "369176    10427789.0\n",
       "186096     6876410.0\n",
       "360721     5526657.0\n",
       "76290      4153501.0\n",
       "81368      3284300.0\n",
       "Name: pct_of_goal, dtype: float64"
      ]
     },
     "execution_count": 149,
     "metadata": {},
     "output_type": "execute_result"
    }
   ],
   "source": [
    "completed['pct_of_goal'].nlargest(5)"
   ]
  },
  {
   "cell_type": "markdown",
   "metadata": {},
   "source": [
    "**4c. Plot a histogram distribution of all completed projects by pct_of_goal**"
   ]
  },
  {
   "cell_type": "code",
   "execution_count": 150,
   "metadata": {},
   "outputs": [],
   "source": [
    "# Creating filters to see the distribution\n",
    "below1 = completed['pct_of_goal'] < 1\n",
    "range1_10 = (completed['pct_of_goal'] >= 1) & (completed['pct_of_goal'] < 10)\n",
    "range10_100 = (completed['pct_of_goal'] >= 10) & (completed['pct_of_goal'] < 1000)\n",
    "range100_1000 = (completed['pct_of_goal'] >= 100) & (completed['pct_of_goal'] < 1000)\n",
    "over1000 = completed['pct_of_goal'] >= 1000"
   ]
  },
  {
   "cell_type": "code",
   "execution_count": 151,
   "metadata": {},
   "outputs": [],
   "source": [
    "# Applying the filters\n",
    "b1 = completed[below1]\n",
    "r1_10 = completed[range1_10]\n",
    "r10_100 = completed[range10_100]\n",
    "r100_1000 = completed[range100_1000]\n",
    "o1000 = completed[over1000]"
   ]
  },
  {
   "cell_type": "code",
   "execution_count": 152,
   "metadata": {},
   "outputs": [
    {
     "name": "stdout",
     "output_type": "stream",
     "text": [
      "Project count by percentage range: \n",
      "1% or less: 106243\n",
      "1%-10%: 67252\n",
      "10%-100%: 192840\n",
      "100%-1000%: 130536\n",
      "1000% plus: 4119\n"
     ]
    }
   ],
   "source": [
    "n1 = b1['pct_of_goal'].count()\n",
    "n2 = r1_10['pct_of_goal'].count()\n",
    "n3 = r10_100['pct_of_goal'].count()\n",
    "n4 = r100_1000['pct_of_goal'].count()\n",
    "n5 = o1000['pct_of_goal'].count()\n",
    "\n",
    "print(f'Project count by percentage range: \\n1% or less: {n1}\\n1%-10%: {n2}\\n10%-100%: {n3}\\n100%-1000%: {n4}\\n1000% plus: {n5}')"
   ]
  },
  {
   "cell_type": "markdown",
   "metadata": {},
   "source": [
    "There are two big groups, one is 0-10, the other 100-110. Plotting the whole range at once would give a very skewed result."
   ]
  },
  {
   "cell_type": "code",
   "execution_count": 153,
   "metadata": {},
   "outputs": [
    {
     "data": {
      "text/plain": [
       "Text(0, 0.5, 'Occurrence')"
      ]
     },
     "execution_count": 153,
     "metadata": {},
     "output_type": "execute_result"
    },
    {
     "data": {
      "image/png": "[encoded data removed]",
      "text/plain": [
       "<Figure size 720x360 with 1 Axes>"
      ]
     },
     "metadata": {},
     "output_type": "display_data"
    }
   ],
   "source": [
    "# 0% - 200%\n",
    "plot = completed['pct_of_goal'].hist(bins=range(200), figsize=(10,5))\n",
    "plot.set_xlabel('Percentage')\n",
    "plot.set_ylabel('Occurrence')"
   ]
  },
  {
   "cell_type": "code",
   "execution_count": 154,
   "metadata": {},
   "outputs": [
    {
     "data": {
      "text/plain": [
       "Text(0, 0.5, 'Occurrence')"
      ]
     },
     "execution_count": 154,
     "metadata": {},
     "output_type": "execute_result"
    },
    {
     "data": {
      "image/png": "[encoded data removed]",
      "text/plain": [
       "<Figure size 720x360 with 1 Axes>"
      ]
     },
     "metadata": {},
     "output_type": "display_data"
    }
   ],
   "source": [
    "# 0%-10%\n",
    "import numpy as np\n",
    "count, division = np.histogram(completed['pct_of_goal'], \n",
    "                               bins = [1, 2, 3, 4, 5, 6, 7, 8, 9, 10])\n",
    "\n",
    "plot = completed['pct_of_goal'].hist(bins=division, figsize=(10,5), edgecolor='black')\n",
    "plot.set_xlabel('Percentage')\n",
    "plot.set_ylabel('Occurrence')"
   ]
  },
  {
   "cell_type": "code",
   "execution_count": 155,
   "metadata": {
    "scrolled": true
   },
   "outputs": [
    {
     "data": {
      "text/plain": [
       "Text(0, 0.5, 'Occurrence')"
      ]
     },
     "execution_count": 155,
     "metadata": {},
     "output_type": "execute_result"
    },
    {
     "data": {
      "image/png": "[encoded data removed]",
      "text/plain": [
       "<Figure size 720x360 with 1 Axes>"
      ]
     },
     "metadata": {},
     "output_type": "display_data"
    }
   ],
   "source": [
    "# 100%-200%\n",
    "count, division = np.histogram(completed['pct_of_goal'], \n",
    "                               bins = [100, 102.5, 105, 110, 115, 120, 130, 140, 150, 165, 180, 200])\n",
    "\n",
    "plot = completed['pct_of_goal'].hist(bins=division, figsize=(10,5))\n",
    "plot.set_xlabel('Percentage')\n",
    "plot.set_ylabel('Occurrence')"
   ]
  },
  {
   "cell_type": "code",
   "execution_count": 156,
   "metadata": {},
   "outputs": [
    {
     "data": {
      "text/plain": [
       "Text(0, 0.5, 'Occurrence')"
      ]
     },
     "execution_count": 156,
     "metadata": {},
     "output_type": "execute_result"
    },
    {
     "data": {
      "image/png": "[encoded data removed]",
      "text/plain": [
       "<Figure size 720x360 with 1 Axes>"
      ]
     },
     "metadata": {},
     "output_type": "display_data"
    }
   ],
   "source": [
    "# Breakdown for 1000% plus\n",
    "count, division = np.histogram(completed['pct_of_goal'], \n",
    "                               bins = [1000, 1500, 2000, 3000, 5000, 10000, 50000, 100000])\n",
    "\n",
    "plot = completed['pct_of_goal'].hist(bins=division, figsize=(10,5))\n",
    "plot.set_xlabel('Percentage')\n",
    "plot.set_ylabel('Occurrence')"
   ]
  },
  {
   "cell_type": "markdown",
   "metadata": {},
   "source": [
    "Inspired by Marina"
   ]
  },
  {
   "cell_type": "code",
   "execution_count": 157,
   "metadata": {},
   "outputs": [
    {
     "data": {
      "image/png": "[encoded data removed]",
      "text/plain": [
       "<Figure size 576x396 with 1 Axes>"
      ]
     },
     "metadata": {},
     "output_type": "display_data"
    }
   ],
   "source": [
    "bins100 = np.arange(0,150, 10)\n",
    "median = completed['pct_of_goal'].median()\n",
    "mean = completed['pct_of_goal'].mean() \n",
    "plt.hist(completed['pct_of_goal'], bins=bins100)\n",
    "plt.title(\"Distribution of Projects by Percentage of their goals\")\n",
    "plt.xlabel(\"Percent of goal reached\")\n",
    "plt.ylabel(\"Number of Projects\")\n",
    "plt.axvline(median, color=\"orange\", label=\"Median\", linewidth=2)\n",
    "plt.axvline(mean, color=\"red\", label=\"Mean\", linewidth=2)\n",
    "plt.legend()\n",
    "plt.tight_layout()\n",
    "plt.show()"
   ]
  },
  {
   "cell_type": "markdown",
   "metadata": {},
   "source": [
    "**4d. Create 2 histogram subplots by pct_of_goal: 1) state=successful, and 2) all others (failed, calceled)**"
   ]
  },
  {
   "cell_type": "code",
   "execution_count": 158,
   "metadata": {},
   "outputs": [],
   "source": [
    "# Create the not completed DF and the pct_Of_goal column\n",
    "not_completed = df[df['state'].isin(['failed', 'canceled'])].copy()\n",
    "not_completed['pct_of_goal'] = (not_completed['pledged'] / not_completed['goal']) * 100"
   ]
  },
  {
   "cell_type": "code",
   "execution_count": 159,
   "metadata": {},
   "outputs": [
    {
     "data": {
      "text/plain": [
       "Text(0.5, 1.0, 'Not completed')"
      ]
     },
     "execution_count": 159,
     "metadata": {},
     "output_type": "execute_result"
    },
    {
     "data": {
      "image/png": "[encoded data removed]",
      "text/plain": [
       "<Figure size 720x468 with 2 Axes>"
      ]
     },
     "metadata": {},
     "output_type": "display_data"
    }
   ],
   "source": [
    "# Plot the subplot\n",
    "fig, (ax1, ax2) = plt.subplots(nrows=2, ncols=1, sharex=True,figsize=(10, 6.5))\n",
    "ax1.hist(completed['pct_of_goal'], bins=bins100)\n",
    "ax2.hist(not_completed['pct_of_goal'], bins=bins100)\n",
    "\n",
    "ax1.set_title('Completed')\n",
    "ax2.set_title('Not completed')\n"
   ]
  },
  {
   "cell_type": "markdown",
   "metadata": {},
   "source": [
    "**5a. What is the average usd_goal_real for all completed kickstarter projects, broken down by main_category.**"
   ]
  },
  {
   "cell_type": "code",
   "execution_count": 160,
   "metadata": {},
   "outputs": [],
   "source": [
    "# Group 'main_category' by average and median\n",
    "average = completed.groupby('main_category').mean()\n",
    "median = completed.groupby('main_category').median()"
   ]
  },
  {
   "cell_type": "code",
   "execution_count": 161,
   "metadata": {
    "scrolled": false
   },
   "outputs": [
    {
     "data": {
      "text/plain": [
       "main_category\n",
       "Technology      102154.155936\n",
       "Film & Video     82375.686055\n",
       "Journalism       65528.614392\n",
       "Food             48661.356201\n",
       "Games            45148.243871\n",
       "Design           42199.323873\n",
       "Art              39467.623304\n",
       "Theater          27147.451041\n",
       "Publishing       22590.745149\n",
       "Fashion          22530.494784\n",
       "Name: usd_goal_real, dtype: float64"
      ]
     },
     "execution_count": 161,
     "metadata": {},
     "output_type": "execute_result"
    }
   ],
   "source": [
    "average['usd_goal_real'].nlargest(10)"
   ]
  },
  {
   "cell_type": "code",
   "execution_count": 162,
   "metadata": {},
   "outputs": [
    {
     "data": {
      "text/html": [
       "<div>\n",
       "<style scoped>\n",
       "    .dataframe tbody tr th:only-of-type {\n",
       "        vertical-align: middle;\n",
       "    }\n",
       "\n",
       "    .dataframe tbody tr th {\n",
       "        vertical-align: top;\n",
       "    }\n",
       "\n",
       "    .dataframe thead th {\n",
       "        text-align: right;\n",
       "    }\n",
       "</style>\n",
       "<table border=\"1\" class=\"dataframe\">\n",
       "  <thead>\n",
       "    <tr style=\"text-align: right;\">\n",
       "      <th></th>\n",
       "      <th>usd_goal_real</th>\n",
       "    </tr>\n",
       "    <tr>\n",
       "      <th>main_category</th>\n",
       "      <th></th>\n",
       "    </tr>\n",
       "  </thead>\n",
       "  <tbody>\n",
       "    <tr>\n",
       "      <th>Technology</th>\n",
       "      <td>102154.155936</td>\n",
       "    </tr>\n",
       "    <tr>\n",
       "      <th>Film &amp; Video</th>\n",
       "      <td>82375.686055</td>\n",
       "    </tr>\n",
       "    <tr>\n",
       "      <th>Journalism</th>\n",
       "      <td>65528.614392</td>\n",
       "    </tr>\n",
       "    <tr>\n",
       "      <th>Food</th>\n",
       "      <td>48661.356201</td>\n",
       "    </tr>\n",
       "    <tr>\n",
       "      <th>Games</th>\n",
       "      <td>45148.243871</td>\n",
       "    </tr>\n",
       "    <tr>\n",
       "      <th>Design</th>\n",
       "      <td>42199.323873</td>\n",
       "    </tr>\n",
       "    <tr>\n",
       "      <th>Art</th>\n",
       "      <td>39467.623304</td>\n",
       "    </tr>\n",
       "    <tr>\n",
       "      <th>Theater</th>\n",
       "      <td>27147.451041</td>\n",
       "    </tr>\n",
       "    <tr>\n",
       "      <th>Publishing</th>\n",
       "      <td>22590.745149</td>\n",
       "    </tr>\n",
       "    <tr>\n",
       "      <th>Fashion</th>\n",
       "      <td>22530.494784</td>\n",
       "    </tr>\n",
       "    <tr>\n",
       "      <th>Comics</th>\n",
       "      <td>19675.773316</td>\n",
       "    </tr>\n",
       "    <tr>\n",
       "      <th>Music</th>\n",
       "      <td>15719.283867</td>\n",
       "    </tr>\n",
       "    <tr>\n",
       "      <th>Photography</th>\n",
       "      <td>12266.908892</td>\n",
       "    </tr>\n",
       "    <tr>\n",
       "      <th>Crafts</th>\n",
       "      <td>10423.092597</td>\n",
       "    </tr>\n",
       "    <tr>\n",
       "      <th>Dance</th>\n",
       "      <td>9408.592117</td>\n",
       "    </tr>\n",
       "  </tbody>\n",
       "</table>\n",
       "</div>"
      ],
      "text/plain": [
       "               usd_goal_real\n",
       "main_category               \n",
       "Technology     102154.155936\n",
       "Film & Video    82375.686055\n",
       "Journalism      65528.614392\n",
       "Food            48661.356201\n",
       "Games           45148.243871\n",
       "Design          42199.323873\n",
       "Art             39467.623304\n",
       "Theater         27147.451041\n",
       "Publishing      22590.745149\n",
       "Fashion         22530.494784\n",
       "Comics          19675.773316\n",
       "Music           15719.283867\n",
       "Photography     12266.908892\n",
       "Crafts          10423.092597\n",
       "Dance            9408.592117"
      ]
     },
     "execution_count": 162,
     "metadata": {},
     "output_type": "execute_result"
    }
   ],
   "source": [
    "# Alternative\n",
    "completed.pivot_table(index='main_category', values='usd_goal_real', \n",
    "                             aggfunc=np.mean).sort_values('usd_goal_real', ascending=False)"
   ]
  },
  {
   "cell_type": "markdown",
   "metadata": {},
   "source": [
    "**5b. What is the median usd_goal_real for all completed kickstarter projects, broken down by main_category.**"
   ]
  },
  {
   "cell_type": "code",
   "execution_count": 163,
   "metadata": {},
   "outputs": [
    {
     "data": {
      "text/plain": [
       "main_category\n",
       "Technology      20000.00\n",
       "Design          10000.00\n",
       "Food            10000.00\n",
       "Games            8000.00\n",
       "Film & Video     7000.00\n",
       "Fashion          5983.55\n",
       "Journalism       5000.00\n",
       "Publishing       5000.00\n",
       "Music            4000.00\n",
       "Photography      4000.00\n",
       "Name: usd_goal_real, dtype: float64"
      ]
     },
     "execution_count": 163,
     "metadata": {},
     "output_type": "execute_result"
    }
   ],
   "source": [
    "median['usd_goal_real'].nlargest(10)"
   ]
  },
  {
   "cell_type": "markdown",
   "metadata": {},
   "source": [
    "**5c. What is the average usd_pledged_real for all completed kickstarter projects, broken down by main_category.**"
   ]
  },
  {
   "cell_type": "code",
   "execution_count": 164,
   "metadata": {},
   "outputs": [
    {
     "data": {
      "text/plain": [
       "main_category\n",
       "Design          24546.889746\n",
       "Games           21288.432988\n",
       "Technology      21186.435891\n",
       "Comics           6653.781332\n",
       "Film & Video     6248.147383\n",
       "Fashion          5762.372201\n",
       "Food             5140.292239\n",
       "Theater          4016.933189\n",
       "Music            3924.105566\n",
       "Photography      3584.669190\n",
       "Name: usd_pledged_real, dtype: float64"
      ]
     },
     "execution_count": 164,
     "metadata": {},
     "output_type": "execute_result"
    }
   ],
   "source": [
    "average['usd_pledged_real'].nlargest(10)"
   ]
  },
  {
   "cell_type": "markdown",
   "metadata": {},
   "source": [
    "**5d.What is the median usd_pledged_real for all completed kickstarter projects, broken down by main_category.**"
   ]
  },
  {
   "cell_type": "code",
   "execution_count": 165,
   "metadata": {},
   "outputs": [
    {
     "data": {
      "text/plain": [
       "main_category\n",
       "Design          1925.850\n",
       "Dance           1865.565\n",
       "Theater         1567.000\n",
       "Comics          1506.500\n",
       "Games           1324.960\n",
       "Music           1010.495\n",
       "Film & Video     760.000\n",
       "Art              431.340\n",
       "Technology       317.000\n",
       "Publishing       291.440\n",
       "Name: usd_pledged_real, dtype: float64"
      ]
     },
     "execution_count": 165,
     "metadata": {},
     "output_type": "execute_result"
    }
   ],
   "source": [
    "median['usd_pledged_real'].nlargest(10)"
   ]
  },
  {
   "cell_type": "markdown",
   "metadata": {},
   "source": [
    "**5e. What insights does this information provide?**"
   ]
  },
  {
   "cell_type": "markdown",
   "metadata": {},
   "source": [
    "Design, games and technology are the categories raising the biggest amounts on average. \n",
    "On the other hand, while technology is the one with the highest  raising goals, design and technology are just on positions 5 and 6, with a sum less than half of that of technology. Every other category is far behind those three, e.g. comics on place 4 having raised just 30% of it."
   ]
  },
  {
   "cell_type": "markdown",
   "metadata": {},
   "source": [
    "**5f. Based on this information, if someone wanted to choose the main_category with the highest combined success rate and pledged dollar amount, which one would you recommend?** "
   ]
  },
  {
   "cell_type": "code",
   "execution_count": 166,
   "metadata": {},
   "outputs": [],
   "source": [
    "# Filter to get the successful projects only\n",
    "success_filter = completed['state'] == 'successful'"
   ]
  },
  {
   "cell_type": "code",
   "execution_count": 167,
   "metadata": {},
   "outputs": [],
   "source": [
    "# Filtering the main_category by successful\n",
    "success_categories = completed.loc[success_filter, 'main_category']"
   ]
  },
  {
   "cell_type": "code",
   "execution_count": 168,
   "metadata": {
    "scrolled": true
   },
   "outputs": [
    {
     "data": {
      "text/plain": [
       "Music           24197\n",
       "Film & Video    23623\n",
       "Games           12518\n",
       "Publishing      12300\n",
       "Art             11510\n",
       "Design          10550\n",
       "Theater          6534\n",
       "Technology       6434\n",
       "Food             6085\n",
       "Comics           5842\n",
       "Fashion          5593\n",
       "Photography      3305\n",
       "Dance            2338\n",
       "Crafts           2115\n",
       "Journalism       1012\n",
       "Name: main_category, dtype: int64"
      ]
     },
     "execution_count": 168,
     "metadata": {},
     "output_type": "execute_result"
    }
   ],
   "source": [
    "# Totals project number per category\n",
    "success_categories.value_counts()"
   ]
  },
  {
   "cell_type": "code",
   "execution_count": 169,
   "metadata": {},
   "outputs": [],
   "source": [
    "# Calculating the success rate per main category and rounding to two decimals\n",
    "success_rate = (success_categories.value_counts() * 100) / completed['main_category'].value_counts()\n",
    "success_rate = success_rate.round(2)"
   ]
  },
  {
   "cell_type": "code",
   "execution_count": 170,
   "metadata": {},
   "outputs": [
    {
     "data": {
      "text/plain": [
       "Dance           62.58\n",
       "Theater         60.22\n",
       "Comics          54.50\n",
       "Music           49.13\n",
       "Art             41.31\n",
       "Film & Video    37.93\n",
       "Games           36.05\n",
       "Design          35.74\n",
       "Publishing      31.50\n",
       "Photography     30.96\n",
       "Food            25.08\n",
       "Fashion         24.94\n",
       "Crafts          24.42\n",
       "Journalism      21.66\n",
       "Technology      20.25\n",
       "Name: main_category, dtype: float64"
      ]
     },
     "execution_count": 170,
     "metadata": {},
     "output_type": "execute_result"
    }
   ],
   "source": [
    "success_rate.sort_values(ascending=False)"
   ]
  },
  {
   "cell_type": "code",
   "execution_count": 171,
   "metadata": {},
   "outputs": [],
   "source": [
    "# Calculating the 'investing value' by multiplying the amount raised with success rate\n",
    "main_category_value = (average['usd_pledged_real'] * success_rate).sort_values(ascending=False)\n",
    "main_category_value = main_category_value.round(2)"
   ]
  },
  {
   "cell_type": "code",
   "execution_count": 172,
   "metadata": {},
   "outputs": [
    {
     "data": {
      "text/plain": [
       "main_category\n",
       "Design          877305.84\n",
       "Games           767448.01\n",
       "Technology      429025.33\n",
       "Comics          362631.08\n",
       "Theater         241899.72\n",
       "Film & Video    236992.23\n",
       "Dance           217650.87\n",
       "Music           192791.31\n",
       "Fashion         143713.56\n",
       "Art             133675.02\n",
       "Food            128918.53\n",
       "Photography     110981.36\n",
       "Publishing      107048.24\n",
       "Journalism       57215.26\n",
       "Crafts           40327.41\n",
       "dtype: float64"
      ]
     },
     "execution_count": 172,
     "metadata": {},
     "output_type": "execute_result"
    }
   ],
   "source": [
    "main_category_value.sort_values(ascending=False)"
   ]
  },
  {
   "cell_type": "markdown",
   "metadata": {},
   "source": [
    "If someone wants to choose the best category in terms of success / money raised it would be Design folowed by Games. Though this is strongly influenced by the amount raised. \n",
    "\n",
    "If one wants to maximize the success rate and but still keep money raised in mind a strong contender would be Comics which is 4th by money raised but with a great success rate of over 50%. \n",
    "\n",
    "If success rate is what you go by there is no way around Dance which has the highest success rate (62%) and while not rasing a lot of money in total, does raise high sum contributions as it sits in 2nd place with a median pledged amount of $1.865.55."
   ]
  },
  {
   "cell_type": "markdown",
   "metadata": {},
   "source": [
    "**6a. Create a new column 'months' that shows how many months the project was active between launch and deadline.**\n"
   ]
  },
  {
   "cell_type": "code",
   "execution_count": 173,
   "metadata": {},
   "outputs": [],
   "source": [
    "# Transforming to datetime object ('launched' already is one).\n",
    "completed['deadline'] = pd.to_datetime(completed['deadline'])"
   ]
  },
  {
   "cell_type": "code",
   "execution_count": 174,
   "metadata": {},
   "outputs": [],
   "source": [
    "# Calculating with division and creating month unit with numpy\n",
    "completed['months'] = (completed['deadline'] - completed['launched']) / np.timedelta64(1, 'M')"
   ]
  },
  {
   "cell_type": "markdown",
   "metadata": {},
   "source": [
    "**6b. Compare the avg months for successful projects vs non-successful. Add visuals if you'd like.**"
   ]
  },
  {
   "cell_type": "code",
   "execution_count": 175,
   "metadata": {},
   "outputs": [],
   "source": [
    "# Filter non successful ones (successful ones we already have)\n",
    "no_success_filter = (completed['state'] == 'failed') | (completed['state'] == 'canceled')\n",
    "failed_filter = completed['state'] == 'failed'\n",
    "canceled_filter = completed['state'] == 'canceled'"
   ]
  },
  {
   "cell_type": "code",
   "execution_count": 176,
   "metadata": {},
   "outputs": [
    {
     "data": {
      "text/plain": [
       "1.1537727416745627"
      ]
     },
     "execution_count": 176,
     "metadata": {},
     "output_type": "execute_result"
    }
   ],
   "source": [
    "completed.loc[no_success_filter, 'months'].mean()"
   ]
  },
  {
   "cell_type": "code",
   "execution_count": 177,
   "metadata": {},
   "outputs": [
    {
     "data": {
      "text/plain": [
       "1.137119895199376"
      ]
     },
     "execution_count": 177,
     "metadata": {},
     "output_type": "execute_result"
    }
   ],
   "source": [
    "completed.loc[failed_filter, 'months'].mean()"
   ]
  },
  {
   "cell_type": "code",
   "execution_count": 178,
   "metadata": {},
   "outputs": [
    {
     "data": {
      "text/plain": [
       "1.2386791124481118"
      ]
     },
     "execution_count": 178,
     "metadata": {},
     "output_type": "execute_result"
    }
   ],
   "source": [
    "completed.loc[canceled_filter, 'months'].mean()"
   ]
  },
  {
   "cell_type": "code",
   "execution_count": 179,
   "metadata": {},
   "outputs": [
    {
     "data": {
      "text/plain": [
       "1.0377933314532855"
      ]
     },
     "execution_count": 179,
     "metadata": {},
     "output_type": "execute_result"
    }
   ],
   "source": [
    "completed.loc[success_filter, 'months'].mean()"
   ]
  },
  {
   "cell_type": "markdown",
   "metadata": {},
   "source": [
    "It seems there are no significant differences in run time but successful ones tend to finish earlier. In any case, after 1 month the latest it should be clear if it is going to succeed or no."
   ]
  },
  {
   "cell_type": "markdown",
   "metadata": {},
   "source": [
    "**6c. Does the length of a project in months seem to have an impact?**"
   ]
  },
  {
   "cell_type": "markdown",
   "metadata": {},
   "source": [
    "No, that does not seem to be the case"
   ]
  },
  {
   "cell_type": "markdown",
   "metadata": {},
   "source": [
    "**7a. Calculate the expected value for the Games: Video Games category, with the expected value defined as: (median of usd_pledged_real) * (success rate of completed projects).**"
   ]
  },
  {
   "cell_type": "code",
   "execution_count": 180,
   "metadata": {},
   "outputs": [],
   "source": [
    "# Create games filter\n",
    "games_filter = completed['main_category'] == 'Games'"
   ]
  },
  {
   "cell_type": "code",
   "execution_count": 181,
   "metadata": {},
   "outputs": [],
   "source": [
    "# Create DF with only games\n",
    "games_df = completed[games_filter]"
   ]
  },
  {
   "cell_type": "code",
   "execution_count": 182,
   "metadata": {},
   "outputs": [],
   "source": [
    "# Create video games filter\n",
    "video_games_filter = games_df['category'] == 'Video Games'"
   ]
  },
  {
   "cell_type": "code",
   "execution_count": 183,
   "metadata": {},
   "outputs": [],
   "source": [
    "# Create DF with only video games\n",
    "video_games_df = games_df[video_games_filter]"
   ]
  },
  {
   "cell_type": "code",
   "execution_count": 184,
   "metadata": {},
   "outputs": [],
   "source": [
    "# Filter for the successful video games\n",
    "vg_success = video_games_df['state'] == 'successful'"
   ]
  },
  {
   "cell_type": "code",
   "execution_count": 185,
   "metadata": {},
   "outputs": [],
   "source": [
    "vg_median = video_games_df['usd_pledged_real'].median()"
   ]
  },
  {
   "cell_type": "code",
   "execution_count": 186,
   "metadata": {},
   "outputs": [],
   "source": [
    "vg_success_rate = (video_games_df.loc[vg_success, 'state'].count() * 100) / video_games_df['state'].count()"
   ]
  },
  {
   "cell_type": "code",
   "execution_count": 187,
   "metadata": {},
   "outputs": [
    {
     "data": {
      "text/plain": [
       "8512.740227525448"
      ]
     },
     "execution_count": 187,
     "metadata": {},
     "output_type": "execute_result"
    }
   ],
   "source": [
    "# Expected value\n",
    "vg_median * vg_success_rate"
   ]
  },
  {
   "cell_type": "code",
   "execution_count": 188,
   "metadata": {},
   "outputs": [
    {
     "data": {
      "text/plain": [
       "20.408861517406553"
      ]
     },
     "execution_count": 188,
     "metadata": {},
     "output_type": "execute_result"
    }
   ],
   "source": [
    "vg_success_rate"
   ]
  },
  {
   "cell_type": "markdown",
   "metadata": {},
   "source": [
    "**7b. Do this again but broken down by deadline year**"
   ]
  },
  {
   "cell_type": "code",
   "execution_count": 189,
   "metadata": {},
   "outputs": [],
   "source": [
    "pd.options.mode.chained_assignment = None # Disabling `SettingWithCopyWarning`\n",
    "video_games_df['deadline_year'] = video_games_df['deadline'].dt.year"
   ]
  },
  {
   "cell_type": "code",
   "execution_count": 190,
   "metadata": {},
   "outputs": [],
   "source": [
    "# Looping over a list of years, making calculations with filtered values, then creating a frequency table\n",
    "years = [2009, 2010, 2011, 2012, 2013, 2014, 2015, 2016, 2017, 2018]\n",
    "expected_values = {}\n",
    "\n",
    "for year in years:\n",
    "    median = video_games_df[video_games_df['deadline_year'] == year]['usd_pledged_real'].median()\n",
    "    success_rate = (video_games_df.loc[(video_games_df['deadline_year'] == year) & (video_games_df['state'] == 'successful'), 'state'].count() * 100) / video_games_df[video_games_df['deadline_year'] == year]['state'].count()\n",
    "    expected_values[year] = median * success_rate   "
   ]
  },
  {
   "cell_type": "code",
   "execution_count": 191,
   "metadata": {},
   "outputs": [
    {
     "data": {
      "text/plain": [
       "2009     8625.000000\n",
       "2010     8079.470199\n",
       "2011     7960.725076\n",
       "2012    16637.575586\n",
       "2013    27168.220413\n",
       "2014    10029.529244\n",
       "2015     3201.498638\n",
       "2016     4967.580145\n",
       "2017     5704.391691\n",
       "2018        0.000000\n",
       "dtype: float64"
      ]
     },
     "execution_count": 191,
     "metadata": {},
     "output_type": "execute_result"
    }
   ],
   "source": [
    "years_expected_values = pd.Series(expected_values)\n",
    "years_expected_values"
   ]
  },
  {
   "cell_type": "markdown",
   "metadata": {},
   "source": [
    "**7c. Show this in a bar chart**"
   ]
  },
  {
   "cell_type": "code",
   "execution_count": 192,
   "metadata": {},
   "outputs": [
    {
     "data": {
      "text/plain": [
       "<matplotlib.axes._subplots.AxesSubplot at 0x7f40bd897eb0>"
      ]
     },
     "execution_count": 192,
     "metadata": {},
     "output_type": "execute_result"
    },
    {
     "data": {
      "image/png": "[encoded data removed]",
      "text/plain": [
       "<Figure size 720x360 with 1 Axes>"
      ]
     },
     "metadata": {},
     "output_type": "display_data"
    }
   ],
   "source": [
    "years_expected_values.plot.bar(title='Expected value by year', figsize=(10,5))"
   ]
  },
  {
   "cell_type": "markdown",
   "metadata": {},
   "source": [
    "**8a. Calculate the project count, success rate, and pct_of_goal for all projects with 'planner' in the name. Check for spelling variations in upper/lowercase.**"
   ]
  },
  {
   "cell_type": "code",
   "execution_count": 193,
   "metadata": {},
   "outputs": [],
   "source": [
    "completed = completed.reset_index()"
   ]
  },
  {
   "cell_type": "code",
   "execution_count": 194,
   "metadata": {},
   "outputs": [],
   "source": [
    "# Creating a new DF, not case sensitive and ignoring NA's\n",
    "planner_df = completed[completed['name'].str.contains('planner', case=False, na=False)]"
   ]
  },
  {
   "cell_type": "code",
   "execution_count": 195,
   "metadata": {},
   "outputs": [
    {
     "data": {
      "text/plain": [
       "356"
      ]
     },
     "execution_count": 195,
     "metadata": {},
     "output_type": "execute_result"
    }
   ],
   "source": [
    "# Project count\n",
    "planner_df['name'].count()"
   ]
  },
  {
   "cell_type": "code",
   "execution_count": 196,
   "metadata": {},
   "outputs": [
    {
     "data": {
      "text/plain": [
       "35.95505617977528"
      ]
     },
     "execution_count": 196,
     "metadata": {},
     "output_type": "execute_result"
    }
   ],
   "source": [
    "# Success rate\n",
    "(planner_df.loc[(planner_df['state'] == 'successful'), 'state'].count() * 100) / planner_df['state'].count()"
   ]
  },
  {
   "cell_type": "code",
   "execution_count": 197,
   "metadata": {},
   "outputs": [
    {
     "data": {
      "text/plain": [
       "199.67"
      ]
     },
     "execution_count": 197,
     "metadata": {},
     "output_type": "execute_result"
    }
   ],
   "source": [
    "# Average pct of goal\n",
    "round(planner_df['pct_of_goal'].mean(), 2)"
   ]
  },
  {
   "cell_type": "markdown",
   "metadata": {},
   "source": [
    "**8b. How about all projects with both 'planner' and 'Panda' in the name?**"
   ]
  },
  {
   "cell_type": "code",
   "execution_count": 198,
   "metadata": {},
   "outputs": [],
   "source": [
    "planner_panda_df = completed[(completed['name'].str.contains('planner', case=False, na=False)) & (completed['name'].str.contains('panda', case=False, na=False))]"
   ]
  },
  {
   "cell_type": "code",
   "execution_count": 199,
   "metadata": {},
   "outputs": [
    {
     "data": {
      "text/plain": [
       "1"
      ]
     },
     "execution_count": 199,
     "metadata": {},
     "output_type": "execute_result"
    }
   ],
   "source": [
    "# Count\n",
    "planner_panda_df['name'].count()"
   ]
  },
  {
   "cell_type": "code",
   "execution_count": 200,
   "metadata": {},
   "outputs": [
    {
     "data": {
      "text/plain": [
       "100.0"
      ]
     },
     "execution_count": 200,
     "metadata": {},
     "output_type": "execute_result"
    }
   ],
   "source": [
    "# Success rate\n",
    "(planner_panda_df.loc[(planner_df['state'] == 'successful'), 'state'].count() * 100) / planner_panda_df['state'].count()"
   ]
  },
  {
   "cell_type": "code",
   "execution_count": 201,
   "metadata": {},
   "outputs": [
    {
     "data": {
      "text/plain": [
       "269.44"
      ]
     },
     "execution_count": 201,
     "metadata": {},
     "output_type": "execute_result"
    }
   ],
   "source": [
    "# Average pct of goal\n",
    "round(planner_panda_df['pct_of_goal'].mean(), 2)"
   ]
  },
  {
   "cell_type": "markdown",
   "metadata": {},
   "source": [
    "### Bonus"
   ]
  },
  {
   "cell_type": "code",
   "execution_count": 202,
   "metadata": {},
   "outputs": [],
   "source": [
    "# Filtering for successful project\n",
    "successful = completed['state'] == 'successful'"
   ]
  },
  {
   "cell_type": "code",
   "execution_count": 203,
   "metadata": {},
   "outputs": [
    {
     "data": {
      "text/plain": [
       "159"
      ]
     },
     "execution_count": 203,
     "metadata": {},
     "output_type": "execute_result"
    }
   ],
   "source": [
    "# Counting the num of unique categories\n",
    "completed[successful]['category'].nunique()"
   ]
  },
  {
   "cell_type": "code",
   "execution_count": 204,
   "metadata": {},
   "outputs": [],
   "source": [
    "# Group 'category' by average and median\n",
    "average_cat = completed.groupby('category').mean()\n",
    "median_cat = completed.groupby('category').median()"
   ]
  },
  {
   "cell_type": "code",
   "execution_count": 205,
   "metadata": {},
   "outputs": [
    {
     "data": {
      "text/plain": [
       "category\n",
       "Movie Theaters       1.639304e+06\n",
       "Fantasy              5.885458e+05\n",
       "Space Exploration    5.858173e+05\n",
       "Television           4.443868e+05\n",
       "Architecture         4.237282e+05\n",
       "Science Fiction      4.099329e+05\n",
       "Action               3.200075e+05\n",
       "Video                3.154761e+05\n",
       "Translations         2.621350e+05\n",
       "Drama                1.907660e+05\n",
       "Name: usd_goal_real, dtype: float64"
      ]
     },
     "execution_count": 205,
     "metadata": {},
     "output_type": "execute_result"
    }
   ],
   "source": [
    "average_cat['usd_goal_real'].nlargest(10)"
   ]
  },
  {
   "cell_type": "code",
   "execution_count": 206,
   "metadata": {},
   "outputs": [
    {
     "data": {
      "text/plain": [
       "category\n",
       "Movie Theaters       30000.00\n",
       "Wearables            30000.00\n",
       "Hardware             28000.00\n",
       "Camera Equipment     25000.00\n",
       "Restaurants          25000.00\n",
       "Gadgets              24866.14\n",
       "Flight               24000.00\n",
       "Technology           22000.00\n",
       "3D Printing          20000.00\n",
       "Fabrication Tools    20000.00\n",
       "Name: usd_goal_real, dtype: float64"
      ]
     },
     "execution_count": 206,
     "metadata": {},
     "output_type": "execute_result"
    }
   ],
   "source": [
    "median_cat['usd_goal_real'].nlargest(10)"
   ]
  },
  {
   "cell_type": "code",
   "execution_count": 207,
   "metadata": {},
   "outputs": [],
   "source": [
    "# Calculating the success rate per main category and rounding to two decimals\n",
    "success_rate_cat = (completed[successful]['category'].value_counts() * 100) / completed['category'].value_counts()\n",
    "success_rate_cat = success_rate_cat.round(2)"
   ]
  },
  {
   "cell_type": "code",
   "execution_count": 208,
   "metadata": {},
   "outputs": [
    {
     "data": {
      "text/plain": [
       "Chiptune           77.14\n",
       "Residencies        72.46\n",
       "Anthologies        67.31\n",
       "Dance              66.64\n",
       "Letterpress        65.96\n",
       "Indie Rock         64.16\n",
       "Country & Folk     63.50\n",
       "Classical Music    63.42\n",
       "Theater            62.61\n",
       "Performances       62.40\n",
       "Name: category, dtype: float64"
      ]
     },
     "execution_count": 208,
     "metadata": {},
     "output_type": "execute_result"
    }
   ],
   "source": [
    "success_rate_cat.nlargest(10)"
   ]
  },
  {
   "cell_type": "code",
   "execution_count": 209,
   "metadata": {},
   "outputs": [],
   "source": [
    "# Calculating the 'investing value' by multiplying the amount raised with success rate\n",
    "category_value = (average_cat['usd_pledged_real'] * success_rate_cat).sort_values(ascending=False)\n",
    "category_value = category_value.round(2)"
   ]
  },
  {
   "cell_type": "code",
   "execution_count": 210,
   "metadata": {},
   "outputs": [
    {
     "data": {
      "text/plain": [
       "category\n",
       "Camera Equipment     4041633.19\n",
       "Sound                2695716.89\n",
       "3D Printing          2495068.28\n",
       "Tabletop Games       1846368.41\n",
       "Wearables            1838448.43\n",
       "Hardware             1466775.47\n",
       "Chiptune             1364724.40\n",
       "Fabrication Tools    1357291.66\n",
       "Robots               1339315.59\n",
       "Typography           1307358.98\n",
       "dtype: float64"
      ]
     },
     "execution_count": 210,
     "metadata": {},
     "output_type": "execute_result"
    }
   ],
   "source": [
    "# The categories with the best expected value\n",
    "category_value.nlargest(10)"
   ]
  },
  {
   "cell_type": "code",
   "execution_count": null,
   "metadata": {},
   "outputs": [],
   "source": []
  }
 ],
 "metadata": {
  "kernelspec": {
   "display_name": "Python 3",
   "language": "python",
   "name": "python3"
  },
  "language_info": {
   "codemirror_mode": {
    "name": "ipython",
    "version": 3
   },
   "file_extension": ".py",
   "mimetype": "text/x-python",
   "name": "python",
   "nbconvert_exporter": "python",
   "pygments_lexer": "ipython3",
   "version": "3.8.1"
  }
 },
 "nbformat": 4,
 "nbformat_minor": 2
}
